{
  "cells": [
    {
      "cell_type": "code",
      "execution_count": 1,
      "metadata": {
        "id": "AlQTPMvF3D9e"
      },
      "outputs": [],
      "source": [
        "import pandas as pd\n",
        "import numpy as np"
      ]
    },
    {
      "cell_type": "code",
      "execution_count": 2,
      "metadata": {
        "colab": {
          "base_uri": "https://localhost:8080/",
          "height": 347
        },
        "id": "kNLcWHJx20Ek",
        "outputId": "3ec257f7-9dd8-4117-8bca-76aeed6a5548"
      },
      "outputs": [
        {
          "data": {
            "text/html": [
              "<div>\n",
              "<style scoped>\n",
              "    .dataframe tbody tr th:only-of-type {\n",
              "        vertical-align: middle;\n",
              "    }\n",
              "\n",
              "    .dataframe tbody tr th {\n",
              "        vertical-align: top;\n",
              "    }\n",
              "\n",
              "    .dataframe thead th {\n",
              "        text-align: right;\n",
              "    }\n",
              "</style>\n",
              "<table border=\"1\" class=\"dataframe\">\n",
              "  <thead>\n",
              "    <tr style=\"text-align: right;\">\n",
              "      <th></th>\n",
              "      <th>Id</th>\n",
              "      <th>Property_Type</th>\n",
              "      <th>Property_Area</th>\n",
              "      <th>Number_of_Windows</th>\n",
              "      <th>Number_of_Doors</th>\n",
              "      <th>Furnishing</th>\n",
              "      <th>Frequency_of_Powercuts</th>\n",
              "      <th>Power_Backup</th>\n",
              "      <th>Water_Supply</th>\n",
              "      <th>Traffic_Density_Score</th>\n",
              "      <th>Crime_Rate</th>\n",
              "      <th>Dust_and_Noise</th>\n",
              "      <th>Air_Quality_Index</th>\n",
              "      <th>Neighborhood_Review</th>\n",
              "      <th>Habitability_score</th>\n",
              "    </tr>\n",
              "  </thead>\n",
              "  <tbody>\n",
              "    <tr>\n",
              "      <th>0</th>\n",
              "      <td>0x21e3</td>\n",
              "      <td>Apartment</td>\n",
              "      <td>106</td>\n",
              "      <td>NaN</td>\n",
              "      <td>1</td>\n",
              "      <td>Semi_Furnished</td>\n",
              "      <td>0.0</td>\n",
              "      <td>No</td>\n",
              "      <td>Once in a day - Morning</td>\n",
              "      <td>5.89</td>\n",
              "      <td>Slightly below average</td>\n",
              "      <td>Medium</td>\n",
              "      <td>90.0</td>\n",
              "      <td>3.86</td>\n",
              "      <td>71.98</td>\n",
              "    </tr>\n",
              "    <tr>\n",
              "      <th>1</th>\n",
              "      <td>0x68d4</td>\n",
              "      <td>Apartment</td>\n",
              "      <td>733</td>\n",
              "      <td>2.0</td>\n",
              "      <td>2</td>\n",
              "      <td>Unfurnished</td>\n",
              "      <td>1.0</td>\n",
              "      <td>No</td>\n",
              "      <td>Once in a day - Evening</td>\n",
              "      <td>4.37</td>\n",
              "      <td>Well below average</td>\n",
              "      <td>Medium</td>\n",
              "      <td>96.0</td>\n",
              "      <td>3.55</td>\n",
              "      <td>71.20</td>\n",
              "    </tr>\n",
              "    <tr>\n",
              "      <th>2</th>\n",
              "      <td>0x7d81</td>\n",
              "      <td>Apartment</td>\n",
              "      <td>737</td>\n",
              "      <td>4.0</td>\n",
              "      <td>2</td>\n",
              "      <td>Fully Furnished</td>\n",
              "      <td>0.0</td>\n",
              "      <td>No</td>\n",
              "      <td>Once in a day - Morning</td>\n",
              "      <td>7.45</td>\n",
              "      <td>Slightly below average</td>\n",
              "      <td>Medium</td>\n",
              "      <td>121.0</td>\n",
              "      <td>3.81</td>\n",
              "      <td>71.39</td>\n",
              "    </tr>\n",
              "    <tr>\n",
              "      <th>3</th>\n",
              "      <td>0x7a57</td>\n",
              "      <td>Apartment</td>\n",
              "      <td>900</td>\n",
              "      <td>3.0</td>\n",
              "      <td>2</td>\n",
              "      <td>Unfurnished</td>\n",
              "      <td>2.0</td>\n",
              "      <td>Yes</td>\n",
              "      <td>Once in a day - Morning</td>\n",
              "      <td>6.16</td>\n",
              "      <td>Well above average</td>\n",
              "      <td>Medium</td>\n",
              "      <td>100.0</td>\n",
              "      <td>1.34</td>\n",
              "      <td>31.46</td>\n",
              "    </tr>\n",
              "    <tr>\n",
              "      <th>4</th>\n",
              "      <td>0x9409</td>\n",
              "      <td>Bungalow</td>\n",
              "      <td>2238</td>\n",
              "      <td>14.0</td>\n",
              "      <td>6</td>\n",
              "      <td>Fully Furnished</td>\n",
              "      <td>0.0</td>\n",
              "      <td>No</td>\n",
              "      <td>All time</td>\n",
              "      <td>5.46</td>\n",
              "      <td>Well below average</td>\n",
              "      <td>Medium</td>\n",
              "      <td>116.0</td>\n",
              "      <td>4.77</td>\n",
              "      <td>93.70</td>\n",
              "    </tr>\n",
              "  </tbody>\n",
              "</table>\n",
              "</div>"
            ],
            "text/plain": [
              "       Id Property_Type  Property_Area  Number_of_Windows  Number_of_Doors  \\\n",
              "0  0x21e3     Apartment            106                NaN                1   \n",
              "1  0x68d4     Apartment            733                2.0                2   \n",
              "2  0x7d81     Apartment            737                4.0                2   \n",
              "3  0x7a57     Apartment            900                3.0                2   \n",
              "4  0x9409      Bungalow           2238               14.0                6   \n",
              "\n",
              "        Furnishing  Frequency_of_Powercuts Power_Backup  \\\n",
              "0   Semi_Furnished                     0.0           No   \n",
              "1      Unfurnished                     1.0           No   \n",
              "2  Fully Furnished                     0.0           No   \n",
              "3      Unfurnished                     2.0          Yes   \n",
              "4  Fully Furnished                     0.0           No   \n",
              "\n",
              "              Water_Supply  Traffic_Density_Score              Crime_Rate  \\\n",
              "0  Once in a day - Morning                   5.89  Slightly below average   \n",
              "1  Once in a day - Evening                   4.37      Well below average   \n",
              "2  Once in a day - Morning                   7.45  Slightly below average   \n",
              "3  Once in a day - Morning                   6.16      Well above average   \n",
              "4                 All time                   5.46      Well below average   \n",
              "\n",
              "  Dust_and_Noise  Air_Quality_Index  Neighborhood_Review  Habitability_score  \n",
              "0         Medium               90.0                 3.86               71.98  \n",
              "1         Medium               96.0                 3.55               71.20  \n",
              "2         Medium              121.0                 3.81               71.39  \n",
              "3         Medium              100.0                 1.34               31.46  \n",
              "4         Medium              116.0                 4.77               93.70  "
            ]
          },
          "execution_count": 2,
          "metadata": {},
          "output_type": "execute_result"
        }
      ],
      "source": [
        "data = pd.read_csv('C:/Users/omarn/Downloads/train.csv')\n",
        "data.head()"
      ]
    },
    {
      "cell_type": "markdown",
      "metadata": {
        "id": "C7ERq3B73LT6"
      },
      "source": [
        "### Preprocessing"
      ]
    },
    {
      "cell_type": "code",
      "execution_count": 3,
      "metadata": {
        "id": "1zpAwa091nzk"
      },
      "outputs": [],
      "source": [
        "from sklearn.preprocessing import LabelEncoder\n",
        "from sklearn.preprocessing import StandardScaler"
      ]
    },
    {
      "cell_type": "code",
      "execution_count": 4,
      "metadata": {
        "colab": {
          "base_uri": "https://localhost:8080/"
        },
        "id": "ZBrXZ40A1nzp",
        "outputId": "62149f7e-a647-4117-c8bc-64bb26586f59"
      },
      "outputs": [
        {
          "name": "stdout",
          "output_type": "stream",
          "text": [
            "Columns with NaN values:\n",
            "Number_of_Windows         1333\n",
            "Furnishing                 828\n",
            "Frequency_of_Powercuts    1109\n",
            "Crime_Rate                 629\n",
            "Dust_and_Noise             999\n",
            "dtype: int64\n"
          ]
        }
      ],
      "source": [
        "# Check for NaN values in the entire dataset\n",
        "nan_values = data.isna().sum()\n",
        "# Print columns with NaN values and the corresponding count of NaN values\n",
        "print(\"Columns with NaN values:\")\n",
        "print(nan_values[nan_values > 0])"
      ]
    },
    {
      "cell_type": "code",
      "execution_count": 5,
      "metadata": {
        "id": "ql7yvBaL1nzq"
      },
      "outputs": [],
      "source": [
        "# Imputing missing values for Number_of_Windows and Frequency_of_Powercuts\n",
        "median_value = data['Number_of_Windows'].median()\n",
        "\n",
        "data['Number_of_Windows'].fillna(median_value, inplace=True)\n",
        "\n",
        "data['Frequency_of_Powercuts'].fillna(median_value, inplace=True)\n",
        "\n",
        "data = data.dropna() # Drop other rows with Nan values"
      ]
    },
    {
      "cell_type": "code",
      "execution_count": 6,
      "metadata": {
        "colab": {
          "base_uri": "https://localhost:8080/"
        },
        "id": "K9TCZiD_NF41",
        "outputId": "206d27b2-5878-4200-bf9b-34bcecfb2e45"
      },
      "outputs": [
        {
          "name": "stdout",
          "output_type": "stream",
          "text": [
            "Unique values of the 'Furnishing' column:\n",
            "Semi_Furnished\n",
            "Unfurnished\n",
            "Fully Furnished\n",
            "Unique values of the 'Furnishing' column after ordinal encoding:\n",
            "[1 0 2]\n"
          ]
        }
      ],
      "source": [
        "# Get the unique values of the 'Furnishing' column\n",
        "unique_furnishing_values = data['Furnishing'].unique()\n",
        "\n",
        "# Print the unique values\n",
        "print(\"Unique values of the 'Furnishing' column:\")\n",
        "for value in unique_furnishing_values:\n",
        "    print(value)\n",
        "\n",
        "\n",
        "    from sklearn.preprocessing import OrdinalEncoder\n",
        "\n",
        "# Drop NaN values from the 'Furnishing' column\n",
        "data.dropna(subset=['Furnishing'], inplace=True)\n",
        "\n",
        "# Define the mapping for ordinal encoding\n",
        "ordinal_mapping = {\n",
        "    'Semi_Furnished': 1,\n",
        "    'Unfurnished': 0,\n",
        "    'Fully Furnished': 2\n",
        "}\n",
        "\n",
        "# Apply ordinal encoding\n",
        "data['Furnishing'] = data['Furnishing'].map(ordinal_mapping)\n",
        "\n",
        "# Print the unique values to confirm encoding\n",
        "print(\"Unique values of the 'Furnishing' column after ordinal encoding:\")\n",
        "print(data['Furnishing'].unique())"
      ]
    },
    {
      "cell_type": "code",
      "execution_count": 7,
      "metadata": {
        "colab": {
          "base_uri": "https://localhost:8080/"
        },
        "id": "DDplmI0sNLQJ",
        "outputId": "40e2f4e0-809c-44ca-e332-895f59047210"
      },
      "outputs": [
        {
          "name": "stdout",
          "output_type": "stream",
          "text": [
            "Unique values of the 'Crime_Rate' column after ordinal encoding:\n",
            "[2 3 0 1]\n",
            "Unique values of the 'Dust_and_Noise' column after ordinal encoding:\n",
            "[1 0 2]\n"
          ]
        }
      ],
      "source": [
        "# Define the mapping for ordinal encoding\n",
        "ordinal_mapping = {\n",
        "    'Well below average': 3,\n",
        "    'Slightly below average': 2,\n",
        "    'Slightly above average': 1,\n",
        "    'Well above average': 0\n",
        "}\n",
        "\n",
        "# Apply ordinal encoding\n",
        "data['Crime_Rate'] = data['Crime_Rate'].map(ordinal_mapping)\n",
        "\n",
        "# Print the unique values to confirm encoding\n",
        "print(\"Unique values of the 'Crime_Rate' column after ordinal encoding:\")\n",
        "print(data['Crime_Rate'].unique())\n",
        "\n",
        "# Define the mapping for ordinal encoding\n",
        "ordinal_mapping = {\n",
        "    'Low': 2,\n",
        "    'Medium': 1,\n",
        "    'High': 0\n",
        "}\n",
        "\n",
        "# Apply ordinal encoding\n",
        "data['Dust_and_Noise'] = data['Dust_and_Noise'].map(ordinal_mapping)\n",
        "\n",
        "# Print the unique values to confirm encoding\n",
        "print(\"Unique values of the 'Dust_and_Noise' column after ordinal encoding:\")\n",
        "print(data['Dust_and_Noise'].unique())"
      ]
    },
    {
      "cell_type": "code",
      "execution_count": 8,
      "metadata": {
        "colab": {
          "base_uri": "https://localhost:8080/"
        },
        "id": "PAYcFMVSN302",
        "outputId": "912100c4-3482-4884-f0dd-309628fb7dab"
      },
      "outputs": [
        {
          "name": "stdout",
          "output_type": "stream",
          "text": [
            "Number of unique values in 'Power_Backup': ['No' 'Yes' 'NOT MENTIONED']\n",
            "Number of unique values in 'Power_Backup' after transformation: 2\n"
          ]
        }
      ],
      "source": [
        "unique_count = data['Power_Backup'].unique()\n",
        "\n",
        "print(\"Number of unique values in 'Power_Backup':\", unique_count)\n",
        "\n",
        "# Drop rows with 'NOT MENTIONED' in 'Power_Backup' column\n",
        "data = data[data['Power_Backup'] != 'NOT MENTIONED']\n",
        "\n",
        "# Replace 'No' with 0 and 'Yes' with 1\n",
        "data['Power_Backup'] = data['Power_Backup'].replace({'No': 0, 'Yes': 1})\n",
        "\n",
        "# Count the number of unique values after transformation\n",
        "unique_values_after_transformation = data['Power_Backup'].nunique()\n",
        "\n",
        "print(\"Number of unique values in 'Power_Backup' after transformation:\", unique_values_after_transformation)"
      ]
    },
    {
      "cell_type": "code",
      "execution_count": 9,
      "metadata": {
        "colab": {
          "base_uri": "https://localhost:8080/"
        },
        "id": "caClGPdXOUut",
        "outputId": "68b12f4f-a0e1-4efd-ea62-9e936729831c"
      },
      "outputs": [
        {
          "name": "stdout",
          "output_type": "stream",
          "text": [
            "Number of unique values in 'Water_Supply' after transformation: 3\n"
          ]
        }
      ],
      "source": [
        "data = data[data['Water_Supply'] != 'NOT MENTIONED']\n",
        "\n",
        "# Encode the remaining values\n",
        "data['Water_Supply'] = data['Water_Supply'].map({\n",
        "    'Once in a day - Morning': 1,\n",
        "    'Once in a day - Evening': 1,\n",
        "    'All time': 2,\n",
        "    'Once in two days': 0\n",
        "})\n",
        "\n",
        "# Count the number of unique values after transformation\n",
        "unique_values_after_transformation = data['Water_Supply'].nunique()\n",
        "\n",
        "print(\"Number of unique values in 'Water_Supply' after transformation:\", unique_values_after_transformation)"
      ]
    },
    {
      "cell_type": "code",
      "execution_count": 10,
      "metadata": {
        "id": "yEpIUgYD1nzr"
      },
      "outputs": [],
      "source": [
        "# One-Hot Encoding with pandas.get_dummies\n",
        "categorical_cols = ['Property_Type' ]\n",
        "data = pd.get_dummies(data, columns=categorical_cols)\n",
        "data.drop(columns=['Id'], inplace=True)"
      ]
    },
    {
      "cell_type": "code",
      "execution_count": 11,
      "metadata": {
        "colab": {
          "base_uri": "https://localhost:8080/"
        },
        "id": "NndGJ24BRWEo",
        "outputId": "1a0c0a1a-daea-4208-d2ca-d7f4bb5dfb17"
      },
      "outputs": [
        {
          "name": "stdout",
          "output_type": "stream",
          "text": [
            "   Property_Area  Number_of_Windows  Number_of_Doors  Furnishing  \\\n",
            "0            106                4.0                1           1   \n",
            "1            733                2.0                2           0   \n",
            "2            737                4.0                2           2   \n",
            "3            900                3.0                2           0   \n",
            "4           2238               14.0                6           2   \n",
            "\n",
            "   Frequency_of_Powercuts  Power_Backup  Water_Supply  Traffic_Density_Score  \\\n",
            "0                     0.0             0             1                   5.89   \n",
            "1                     1.0             0             1                   4.37   \n",
            "2                     0.0             0             1                   7.45   \n",
            "3                     2.0             1             1                   6.16   \n",
            "4                     0.0             0             2                   5.46   \n",
            "\n",
            "   Crime_Rate  Dust_and_Noise  Air_Quality_Index  Neighborhood_Review  \\\n",
            "0           2               1               90.0                 3.86   \n",
            "1           3               1               96.0                 3.55   \n",
            "2           2               1              121.0                 3.81   \n",
            "3           0               1              100.0                 1.34   \n",
            "4           3               1              116.0                 4.77   \n",
            "\n",
            "   Habitability_score  Property_Type_#R%$G&867  Property_Type_Apartment  \\\n",
            "0               71.98                    False                     True   \n",
            "1               71.20                    False                     True   \n",
            "2               71.39                    False                     True   \n",
            "3               31.46                    False                     True   \n",
            "4               93.70                    False                    False   \n",
            "\n",
            "   Property_Type_Bungalow  Property_Type_Container Home  Property_Type_Duplex  \\\n",
            "0                   False                         False                 False   \n",
            "1                   False                         False                 False   \n",
            "2                   False                         False                 False   \n",
            "3                   False                         False                 False   \n",
            "4                    True                         False                 False   \n",
            "\n",
            "   Property_Type_Single-family home  \n",
            "0                             False  \n",
            "1                             False  \n",
            "2                             False  \n",
            "3                             False  \n",
            "4                             False  \n"
          ]
        }
      ],
      "source": [
        "print(data.head())"
      ]
    },
    {
      "cell_type": "code",
      "execution_count": 12,
      "metadata": {
        "id": "rxRGtTM94NPv"
      },
      "outputs": [],
      "source": [
        "X = data.drop(columns=\"Habitability_score\")\n",
        "y = data[\"Habitability_score\"]"
      ]
    },
    {
      "cell_type": "code",
      "execution_count": 13,
      "metadata": {
        "id": "3bLCXOde4Qgb"
      },
      "outputs": [],
      "source": [
        "# Scaling features\n",
        "scaler = StandardScaler()\n",
        "X_scaled = scaler.fit_transform(X)"
      ]
    },
    {
      "cell_type": "markdown",
      "metadata": {
        "id": "DUqzOXTF4Ym7"
      },
      "source": [
        "### Model Training"
      ]
    },
    {
      "cell_type": "code",
      "execution_count": 14,
      "metadata": {
        "id": "rwAuntsv1nzs"
      },
      "outputs": [],
      "source": [
        "from sklearn.model_selection import KFold\n",
        "from sklearn.model_selection import cross_val_score,GridSearchCV\n",
        "from sklearn.svm import SVR\n",
        "import pickle"
      ]
    },
    {
      "cell_type": "code",
      "execution_count": 15,
      "metadata": {
        "id": "NLVyKCQe1nzt"
      },
      "outputs": [],
      "source": [
        "# Define the parameter grid for GridSearchCV\n",
        "param_grid = {\n",
        "    'kernel': ['linear', 'rbf', 'poly'],  # Different kernel types\n",
        "    'C': [0.1, 1, 10],  # Regularization parameter\n",
        "    'degree': [2, 3],  # Degree for polynomial kernel (if applicable)\n",
        "    'gamma': ['auto', 0.1, 1]  # Gamma for RBF kernel (if applicable)\n",
        "}"
      ]
    },
    {
      "cell_type": "code",
      "execution_count": 16,
      "metadata": {
        "id": "CfU-ZLIi1nzu"
      },
      "outputs": [],
      "source": [
        "svr = SVR()\n",
        "\n",
        "n_splits = 7\n",
        "kf = KFold(n_splits=n_splits, shuffle=True, random_state=42)\n",
        "grid_search = GridSearchCV(svr, param_grid, scoring='neg_mean_squared_error', cv=n_splits)"
      ]
    },
    {
      "cell_type": "code",
      "execution_count": 17,
      "metadata": {
        "id": "4JBrr_-q5vNs"
      },
      "outputs": [],
      "source": [
        "scores = []\n",
        "for train_index, test_index in kf.split(X):\n",
        "    X_train, X_test = X.iloc[train_index], X.iloc[test_index]\n",
        "    y_train, y_test = y.iloc[train_index], y.iloc[test_index]\n",
        "\n",
        "    # Fit scaler to the training features and transform both training and testing features\n",
        "    X_train_scaled = scaler.fit_transform(X_train)\n",
        "    X_test_scaled = scaler.transform(X_test)\n",
        "\n",
        "    # Fit SVR model to the scaled training data\n",
        "    svr.fit(X_train_scaled, y_train)\n",
        "\n",
        "    # Evaluate SVR model on the scaled testing data\n",
        "    score = svr.score(X_test_scaled, y_test)\n",
        "    scores.append(score)\n",
        "\n",
        "with open('ML_OLY_SVR_Model.pkl', 'wb') as f: # Save model\n",
        "    pickle.dump(svr, f)"
      ]
    },
    {
      "cell_type": "code",
      "execution_count": 18,
      "metadata": {
        "colab": {
          "base_uri": "https://localhost:8080/"
        },
        "id": "ivx860wj6AHM",
        "outputId": "f9bed585-9a5b-486d-87b7-0a9ef3f1b544"
      },
      "outputs": [
        {
          "name": "stdout",
          "output_type": "stream",
          "text": [
            "Cross-validation scores: [0.715815552414568, 0.7143435658490769, 0.7117546158053334, 0.7274448199028403, 0.7003615511223367, 0.7014731967732438, 0.7322342008174084]\n",
            "Mean cross-validation score: 0.714775357526401\n",
            "Standard deviation of cross-validation scores: 0.011086833321738125\n"
          ]
        }
      ],
      "source": [
        "# Print the cross-validation scores\n",
        "print(\"Cross-validation scores:\", scores)\n",
        "\n",
        "# Print the mean and standard deviation of the cross-validation scores\n",
        "print(\"Mean cross-validation score:\", np.mean(scores))\n",
        "print(\"Standard deviation of cross-validation scores:\", np.std(scores))"
      ]
    },
    {
      "cell_type": "code",
      "execution_count": 19,
      "metadata": {},
      "outputs": [],
      "source": [
        "import tkinter as tk\n",
        "from tkinter import filedialog, messagebox, Label, Button, Entry\n",
        "import pandas as pd\n",
        "import numpy as np\n",
        "from sklearn.preprocessing import StandardScaler, LabelEncoder\n",
        "from sklearn.model_selection import GridSearchCV, KFold\n",
        "from sklearn.svm import SVR\n",
        "import pickle"
      ]
    },
    {
      "cell_type": "code",
      "execution_count": 20,
      "metadata": {},
      "outputs": [],
      "source": [
        "# Load the trained SVR model from file\n",
        "with open('ML_OLY_SVR_Model.pkl', 'rb') as f:\n",
        "    svr_loaded = pickle.load(f)\n",
        "\n",
        "def predict():\n",
        "    try:\n",
        "       # Get input from the entry widgets\n",
        "        Property_Area = property_area_entry.get()\n",
        "        Number_of_Windows = num_windows_entry.get()\n",
        "        Number_of_Doors = num_doors_entry.get()\n",
        "        Furnishing = furnishing_entry.get()\n",
        "        Frequency_of_Powercuts = frequency_entry.get()\n",
        "        Power_Backup = power_backup_entry.get()\n",
        "        Water_Supply = water_supply_entry.get()\n",
        "        Traffic_Density_Score = traffic_density_entry.get()\n",
        "        Crime_Rate = crime_rate_entry.get()\n",
        "        Dust_and_Noise = dust_noise_entry.get()\n",
        "        Air_Quality_Index = air_quality_entry.get()\n",
        "        Neighborhood_Review = neighborhood_review_entry.get()\n",
        "        Habitability_score = habitability_score_entry.get()\n",
        "        feature1 =  feature1_entry.get()\n",
        "        feature2 =  feature2_entry.get()\n",
        "        feature3 =  feature3_entry.get()\n",
        "        feature4 =  feature4_entry.get()\n",
        "        feature5 =  feature5_entry.get()\n",
        "\n",
        "        # Prepare input data for prediction\n",
        "        user_input = np.array([[Property_Area, Number_of_Windows, Number_of_Doors, Furnishing,\n",
        "                                Frequency_of_Powercuts, Power_Backup, Water_Supply, Traffic_Density_Score,\n",
        "                                Crime_Rate, Dust_and_Noise, Air_Quality_Index, Neighborhood_Review,\n",
        "                                Habitability_score , feature1 , feature2 , feature3, feature4 , feature5]])\n",
        "        \n",
        "        # Use the loaded model to make predictions\n",
        "        predicted_value = svr_loaded.predict(user_input)\n",
        "        \n",
        "        # Show the predicted value\n",
        "        prediction_label.config(text=f\"Predicted value: {predicted_value[0]}\")\n",
        "    except Exception as e:\n",
        "        messagebox.showerror(\"Error\", f\"An error occurred: {str(e)}\")"
      ]
    },
    {
      "cell_type": "code",
      "execution_count": 43,
      "metadata": {},
      "outputs": [],
      "source": [
        "window = tk.Tk()\n",
        "window.title(\"SVR Prediction\")\n",
        "window.configure(bg=\"light blue\")\n",
        "\n",
        "# Property Area\n",
        "property_area_label = tk.Label(window, text=\"Property Area:\", bg=\"light blue\")\n",
        "property_area_label.grid(row=1, column=0)\n",
        "property_area_entry = tk.Entry(window, bg=\"light blue\")\n",
        "property_area_entry.grid(row=1, column=1)\n",
        "\n",
        "# Number of Windows\n",
        "num_windows_label = tk.Label(window, text=\"Number of Windows:\", bg=\"light blue\")\n",
        "num_windows_label.grid(row=2, column=0)\n",
        "num_windows_entry = tk.Entry(window, bg=\"light blue\")\n",
        "num_windows_entry.grid(row=2, column=1)\n",
        "\n",
        "# Number of Doors\n",
        "num_doors_label = tk.Label(window, text=\"Number of Doors:\", bg=\"light blue\")\n",
        "num_doors_label.grid(row=3, column=0)\n",
        "num_doors_entry = tk.Entry(window, bg=\"light blue\")\n",
        "num_doors_entry.grid(row=3, column=1)\n",
        "\n",
        "# Furnishing\n",
        "furnishing_label = tk.Label(window, text=\"Furnishing:\", bg=\"light blue\")\n",
        "furnishing_label.grid(row=4, column=0)\n",
        "furnishing_entry = tk.Entry(window, bg=\"light blue\")\n",
        "furnishing_entry.grid(row=4, column=1)\n",
        "\n",
        "# Frequency of Powercuts\n",
        "frequency_label = tk.Label(window, text=\"Frequency of Powercuts:\", bg=\"light blue\")\n",
        "frequency_label.grid(row=5, column=0)\n",
        "frequency_entry = tk.Entry(window, bg=\"light blue\")\n",
        "frequency_entry.grid(row=5, column=1)\n",
        "\n",
        "# Power Backup\n",
        "power_backup_label = tk.Label(window, text=\"Power Backup:\", bg=\"light blue\")\n",
        "power_backup_label.grid(row=6, column=0)\n",
        "power_backup_entry = tk.Entry(window, bg=\"light blue\")\n",
        "power_backup_entry.grid(row=6, column=1)\n",
        "\n",
        "# Water Supply\n",
        "water_supply_label = tk.Label(window, text=\"Water Supply:\", bg=\"light blue\")\n",
        "water_supply_label.grid(row=7, column=0)\n",
        "water_supply_entry = tk.Entry(window, bg=\"light blue\")\n",
        "water_supply_entry.grid(row=7, column=1)\n",
        "\n",
        "# Traffic Density Score\n",
        "traffic_density_label = tk.Label(window, text=\"Traffic Density Score:\", bg=\"light blue\")\n",
        "traffic_density_label.grid(row=8, column=0)\n",
        "traffic_density_entry = tk.Entry(window, bg=\"light blue\")\n",
        "traffic_density_entry.grid(row=8, column=1)\n",
        "\n",
        "# Crime Rate\n",
        "crime_rate_label = tk.Label(window, text=\"Crime Rate:\", bg=\"light blue\")\n",
        "crime_rate_label.grid(row=9, column=0)\n",
        "crime_rate_entry = tk.Entry(window, bg=\"light blue\")\n",
        "crime_rate_entry.grid(row=9, column=1)\n",
        "\n",
        "# Dust and Noise\n",
        "dust_noise_label = tk.Label(window, text=\"Dust and Noise:\", bg=\"light blue\")\n",
        "dust_noise_label.grid(row=10, column=0)\n",
        "dust_noise_entry = tk.Entry(window, bg=\"light blue\")\n",
        "dust_noise_entry.grid(row=10, column=1)\n",
        "\n",
        "# Air Quality Index\n",
        "air_quality_label = tk.Label(window, text=\"Air Quality Index:\", bg=\"light blue\")\n",
        "air_quality_label.grid(row=11, column=0)\n",
        "air_quality_entry = tk.Entry(window, bg=\"light blue\")\n",
        "air_quality_entry.grid(row=11, column=1)\n",
        "\n",
        "# Neighborhood Review\n",
        "neighborhood_review_label = tk.Label(window, text=\"Neighborhood Review:\", bg=\"light blue\")\n",
        "neighborhood_review_label.grid(row=12, column=0)\n",
        "neighborhood_review_entry = tk.Entry(window, bg=\"light blue\")\n",
        "neighborhood_review_entry.grid(row=12, column=1)\n",
        "\n",
        "# Habitability Score\n",
        "habitability_score_label = tk.Label(window, text=\"Habitability Score:\", bg=\"light blue\")\n",
        "habitability_score_label.grid(row=13, column=0)\n",
        "habitability_score_entry = tk.Entry(window, bg=\"light blue\")\n",
        "habitability_score_entry.grid(row=13, column=1)\n",
        "\n",
        "# Feature\n",
        "feature1_label = tk.Label(window, text=\"Feature1:\", bg=\"light blue\")\n",
        "feature1_label.grid(row=14, column=0)\n",
        "feature1_entry = tk.Entry(window, bg=\"light blue\")\n",
        "feature1_entry.grid(row=14, column=1)\n",
        "\n",
        "# Feature\n",
        "feature2_label = tk.Label(window, text=\"Feature2:\", bg=\"light blue\")\n",
        "feature2_label.grid(row=15, column=0)\n",
        "feature2_entry = tk.Entry(window, bg=\"light blue\")\n",
        "feature2_entry.grid(row=15, column=1)\n",
        "\n",
        "# Feature\n",
        "feature3_label = tk.Label(window, text=\"Feature3:\", bg=\"light blue\")\n",
        "feature3_label.grid(row=16, column=0)\n",
        "feature3_entry = tk.Entry(window, bg=\"light blue\")\n",
        "feature3_entry.grid(row=16, column=1)\n",
        "\n",
        "# Feature\n",
        "feature4_label = tk.Label(window, text=\"Feature4:\", bg=\"light blue\")\n",
        "feature4_label.grid(row=17, column=0)\n",
        "feature4_entry = tk.Entry(window, bg=\"light blue\")\n",
        "feature4_entry.grid(row=17, column=1)\n",
        "\n",
        "# Feature\n",
        "feature5_label = tk.Label(window, text=\"Feature5:\", bg=\"light blue\")\n",
        "feature5_label.grid(row=18, column=0)\n",
        "feature5_entry = tk.Entry(window, bg=\"light blue\")\n",
        "feature5_entry.grid(row=18, column=1)\n",
        "\n",
        "predict_button = tk.Button(window, text=\"Predict\", command=predict)\n",
        "predict_button.grid(row=21, columnspan=3)\n",
        "\n",
        "# Create a label to show prediction result\n",
        "prediction_label = tk.Label(window, text=\"\", bg=\"light blue\")\n",
        "prediction_label.grid(row=25, columnspan=3)"
      ]
    },
    {
      "cell_type": "code",
      "execution_count": 44,
      "metadata": {},
      "outputs": [],
      "source": [
        "# Run the GUI\n",
        "window.mainloop()"
      ]
    },
    {
      "cell_type": "code",
      "execution_count": null,
      "metadata": {},
      "outputs": [],
      "source": []
    }
  ],
  "metadata": {
    "colab": {
      "provenance": []
    },
    "kernelspec": {
      "display_name": "Python 3",
      "language": "python",
      "name": "python3"
    },
    "language_info": {
      "codemirror_mode": {
        "name": "ipython",
        "version": 3
      },
      "file_extension": ".py",
      "mimetype": "text/x-python",
      "name": "python",
      "nbconvert_exporter": "python",
      "pygments_lexer": "ipython3",
      "version": "3.9.0"
    }
  },
  "nbformat": 4,
  "nbformat_minor": 0
}
