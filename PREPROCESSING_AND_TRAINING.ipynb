{
  "cells": [
    {
      "cell_type": "markdown",
      "metadata": {
        "id": "view-in-github",
        "colab_type": "text"
      },
      "source": [
        "<a href=\"https://colab.research.google.com/github/B0BWAX/ML-OLY-SUSTAINABILTY-PREDICTION/blob/main/PREPROCESSING_AND_TRAINING.ipynb\" target=\"_parent\"><img src=\"https://colab.research.google.com/assets/colab-badge.svg\" alt=\"Open In Colab\"/></a>"
      ]
    },
    {
      "cell_type": "code",
      "source": [
        "# mount drive\n",
        "from google.colab import drive\n",
        "drive.mount('/content/drive')"
      ],
      "metadata": {
        "colab": {
          "base_uri": "https://localhost:8080/"
        },
        "id": "p60qO08I2DOO",
        "outputId": "de13cf2f-e4c7-4ae9-d9d8-10f7724c48bb"
      },
      "execution_count": 1,
      "outputs": [
        {
          "output_type": "stream",
          "name": "stdout",
          "text": [
            "Mounted at /content/drive\n"
          ]
        }
      ]
    },
    {
      "cell_type": "code",
      "source": [
        "# using kaggle API\n",
        "!mkdir ~/.kaggle\n",
        "!cp /content/drive/MyDrive/API-KEYS/kaggle.json ~/.kaggle/\n",
        "!chmod 600 ~/.kaggle/kaggle.json"
      ],
      "metadata": {
        "id": "LuErwgDT2D3y"
      },
      "execution_count": 2,
      "outputs": []
    },
    {
      "cell_type": "code",
      "source": [
        "# download dataset\n",
        "!kaggle competitions download -c ml-olympiad-sustainable-urban-living"
      ],
      "metadata": {
        "colab": {
          "base_uri": "https://localhost:8080/"
        },
        "id": "8YW6eKYY2HDG",
        "outputId": "e5e5212a-1325-4116-96d2-0f962464c041"
      },
      "execution_count": 3,
      "outputs": [
        {
          "output_type": "stream",
          "name": "stdout",
          "text": [
            "Downloading ml-olympiad-sustainable-urban-living.zip to /content\n",
            "\r  0% 0.00/877k [00:00<?, ?B/s]\n",
            "\r100% 877k/877k [00:00<00:00, 68.5MB/s]\n"
          ]
        }
      ]
    },
    {
      "cell_type": "code",
      "source": [
        "!unzip ml-olympiad-sustainable-urban-living.zip"
      ],
      "metadata": {
        "colab": {
          "base_uri": "https://localhost:8080/"
        },
        "id": "G-D250l12pdC",
        "outputId": "7e7325f9-2349-4421-954b-5837063a0a56"
      },
      "execution_count": 4,
      "outputs": [
        {
          "output_type": "stream",
          "name": "stdout",
          "text": [
            "Archive:  ml-olympiad-sustainable-urban-living.zip\n",
            "  inflating: sample_submission.csv   \n",
            "  inflating: test.csv                \n",
            "  inflating: train.csv               \n"
          ]
        }
      ]
    },
    {
      "cell_type": "code",
      "source": [
        "import pandas as pd\n",
        "import numpy as np"
      ],
      "metadata": {
        "id": "AlQTPMvF3D9e"
      },
      "execution_count": 6,
      "outputs": []
    },
    {
      "cell_type": "code",
      "source": [
        "data = pd.read_csv('/content/train.csv')\n",
        "data.head()"
      ],
      "metadata": {
        "colab": {
          "base_uri": "https://localhost:8080/",
          "height": 348
        },
        "id": "kNLcWHJx20Ek",
        "outputId": "c206d4b2-d963-49f1-ee08-5f2340c92f67"
      },
      "execution_count": 7,
      "outputs": [
        {
          "output_type": "execute_result",
          "data": {
            "text/plain": [
              "       Id Property_Type  Property_Area  Number_of_Windows  Number_of_Doors  \\\n",
              "0  0x21e3     Apartment            106                NaN                1   \n",
              "1  0x68d4     Apartment            733                2.0                2   \n",
              "2  0x7d81     Apartment            737                4.0                2   \n",
              "3  0x7a57     Apartment            900                3.0                2   \n",
              "4  0x9409      Bungalow           2238               14.0                6   \n",
              "\n",
              "        Furnishing  Frequency_of_Powercuts Power_Backup  \\\n",
              "0   Semi_Furnished                     0.0           No   \n",
              "1      Unfurnished                     1.0           No   \n",
              "2  Fully Furnished                     0.0           No   \n",
              "3      Unfurnished                     2.0          Yes   \n",
              "4  Fully Furnished                     0.0           No   \n",
              "\n",
              "              Water_Supply  Traffic_Density_Score              Crime_Rate  \\\n",
              "0  Once in a day - Morning                   5.89  Slightly below average   \n",
              "1  Once in a day - Evening                   4.37      Well below average   \n",
              "2  Once in a day - Morning                   7.45  Slightly below average   \n",
              "3  Once in a day - Morning                   6.16      Well above average   \n",
              "4                 All time                   5.46      Well below average   \n",
              "\n",
              "  Dust_and_Noise  Air_Quality_Index  Neighborhood_Review  Habitability_score  \n",
              "0         Medium               90.0                 3.86               71.98  \n",
              "1         Medium               96.0                 3.55               71.20  \n",
              "2         Medium              121.0                 3.81               71.39  \n",
              "3         Medium              100.0                 1.34               31.46  \n",
              "4         Medium              116.0                 4.77               93.70  "
            ],
            "text/html": [
              "\n",
              "  <div id=\"df-c68fcaa9-abd8-4a65-b45d-2e045491a5d4\" class=\"colab-df-container\">\n",
              "    <div>\n",
              "<style scoped>\n",
              "    .dataframe tbody tr th:only-of-type {\n",
              "        vertical-align: middle;\n",
              "    }\n",
              "\n",
              "    .dataframe tbody tr th {\n",
              "        vertical-align: top;\n",
              "    }\n",
              "\n",
              "    .dataframe thead th {\n",
              "        text-align: right;\n",
              "    }\n",
              "</style>\n",
              "<table border=\"1\" class=\"dataframe\">\n",
              "  <thead>\n",
              "    <tr style=\"text-align: right;\">\n",
              "      <th></th>\n",
              "      <th>Id</th>\n",
              "      <th>Property_Type</th>\n",
              "      <th>Property_Area</th>\n",
              "      <th>Number_of_Windows</th>\n",
              "      <th>Number_of_Doors</th>\n",
              "      <th>Furnishing</th>\n",
              "      <th>Frequency_of_Powercuts</th>\n",
              "      <th>Power_Backup</th>\n",
              "      <th>Water_Supply</th>\n",
              "      <th>Traffic_Density_Score</th>\n",
              "      <th>Crime_Rate</th>\n",
              "      <th>Dust_and_Noise</th>\n",
              "      <th>Air_Quality_Index</th>\n",
              "      <th>Neighborhood_Review</th>\n",
              "      <th>Habitability_score</th>\n",
              "    </tr>\n",
              "  </thead>\n",
              "  <tbody>\n",
              "    <tr>\n",
              "      <th>0</th>\n",
              "      <td>0x21e3</td>\n",
              "      <td>Apartment</td>\n",
              "      <td>106</td>\n",
              "      <td>NaN</td>\n",
              "      <td>1</td>\n",
              "      <td>Semi_Furnished</td>\n",
              "      <td>0.0</td>\n",
              "      <td>No</td>\n",
              "      <td>Once in a day - Morning</td>\n",
              "      <td>5.89</td>\n",
              "      <td>Slightly below average</td>\n",
              "      <td>Medium</td>\n",
              "      <td>90.0</td>\n",
              "      <td>3.86</td>\n",
              "      <td>71.98</td>\n",
              "    </tr>\n",
              "    <tr>\n",
              "      <th>1</th>\n",
              "      <td>0x68d4</td>\n",
              "      <td>Apartment</td>\n",
              "      <td>733</td>\n",
              "      <td>2.0</td>\n",
              "      <td>2</td>\n",
              "      <td>Unfurnished</td>\n",
              "      <td>1.0</td>\n",
              "      <td>No</td>\n",
              "      <td>Once in a day - Evening</td>\n",
              "      <td>4.37</td>\n",
              "      <td>Well below average</td>\n",
              "      <td>Medium</td>\n",
              "      <td>96.0</td>\n",
              "      <td>3.55</td>\n",
              "      <td>71.20</td>\n",
              "    </tr>\n",
              "    <tr>\n",
              "      <th>2</th>\n",
              "      <td>0x7d81</td>\n",
              "      <td>Apartment</td>\n",
              "      <td>737</td>\n",
              "      <td>4.0</td>\n",
              "      <td>2</td>\n",
              "      <td>Fully Furnished</td>\n",
              "      <td>0.0</td>\n",
              "      <td>No</td>\n",
              "      <td>Once in a day - Morning</td>\n",
              "      <td>7.45</td>\n",
              "      <td>Slightly below average</td>\n",
              "      <td>Medium</td>\n",
              "      <td>121.0</td>\n",
              "      <td>3.81</td>\n",
              "      <td>71.39</td>\n",
              "    </tr>\n",
              "    <tr>\n",
              "      <th>3</th>\n",
              "      <td>0x7a57</td>\n",
              "      <td>Apartment</td>\n",
              "      <td>900</td>\n",
              "      <td>3.0</td>\n",
              "      <td>2</td>\n",
              "      <td>Unfurnished</td>\n",
              "      <td>2.0</td>\n",
              "      <td>Yes</td>\n",
              "      <td>Once in a day - Morning</td>\n",
              "      <td>6.16</td>\n",
              "      <td>Well above average</td>\n",
              "      <td>Medium</td>\n",
              "      <td>100.0</td>\n",
              "      <td>1.34</td>\n",
              "      <td>31.46</td>\n",
              "    </tr>\n",
              "    <tr>\n",
              "      <th>4</th>\n",
              "      <td>0x9409</td>\n",
              "      <td>Bungalow</td>\n",
              "      <td>2238</td>\n",
              "      <td>14.0</td>\n",
              "      <td>6</td>\n",
              "      <td>Fully Furnished</td>\n",
              "      <td>0.0</td>\n",
              "      <td>No</td>\n",
              "      <td>All time</td>\n",
              "      <td>5.46</td>\n",
              "      <td>Well below average</td>\n",
              "      <td>Medium</td>\n",
              "      <td>116.0</td>\n",
              "      <td>4.77</td>\n",
              "      <td>93.70</td>\n",
              "    </tr>\n",
              "  </tbody>\n",
              "</table>\n",
              "</div>\n",
              "    <div class=\"colab-df-buttons\">\n",
              "\n",
              "  <div class=\"colab-df-container\">\n",
              "    <button class=\"colab-df-convert\" onclick=\"convertToInteractive('df-c68fcaa9-abd8-4a65-b45d-2e045491a5d4')\"\n",
              "            title=\"Convert this dataframe to an interactive table.\"\n",
              "            style=\"display:none;\">\n",
              "\n",
              "  <svg xmlns=\"http://www.w3.org/2000/svg\" height=\"24px\" viewBox=\"0 -960 960 960\">\n",
              "    <path d=\"M120-120v-720h720v720H120Zm60-500h600v-160H180v160Zm220 220h160v-160H400v160Zm0 220h160v-160H400v160ZM180-400h160v-160H180v160Zm440 0h160v-160H620v160ZM180-180h160v-160H180v160Zm440 0h160v-160H620v160Z\"/>\n",
              "  </svg>\n",
              "    </button>\n",
              "\n",
              "  <style>\n",
              "    .colab-df-container {\n",
              "      display:flex;\n",
              "      gap: 12px;\n",
              "    }\n",
              "\n",
              "    .colab-df-convert {\n",
              "      background-color: #E8F0FE;\n",
              "      border: none;\n",
              "      border-radius: 50%;\n",
              "      cursor: pointer;\n",
              "      display: none;\n",
              "      fill: #1967D2;\n",
              "      height: 32px;\n",
              "      padding: 0 0 0 0;\n",
              "      width: 32px;\n",
              "    }\n",
              "\n",
              "    .colab-df-convert:hover {\n",
              "      background-color: #E2EBFA;\n",
              "      box-shadow: 0px 1px 2px rgba(60, 64, 67, 0.3), 0px 1px 3px 1px rgba(60, 64, 67, 0.15);\n",
              "      fill: #174EA6;\n",
              "    }\n",
              "\n",
              "    .colab-df-buttons div {\n",
              "      margin-bottom: 4px;\n",
              "    }\n",
              "\n",
              "    [theme=dark] .colab-df-convert {\n",
              "      background-color: #3B4455;\n",
              "      fill: #D2E3FC;\n",
              "    }\n",
              "\n",
              "    [theme=dark] .colab-df-convert:hover {\n",
              "      background-color: #434B5C;\n",
              "      box-shadow: 0px 1px 3px 1px rgba(0, 0, 0, 0.15);\n",
              "      filter: drop-shadow(0px 1px 2px rgba(0, 0, 0, 0.3));\n",
              "      fill: #FFFFFF;\n",
              "    }\n",
              "  </style>\n",
              "\n",
              "    <script>\n",
              "      const buttonEl =\n",
              "        document.querySelector('#df-c68fcaa9-abd8-4a65-b45d-2e045491a5d4 button.colab-df-convert');\n",
              "      buttonEl.style.display =\n",
              "        google.colab.kernel.accessAllowed ? 'block' : 'none';\n",
              "\n",
              "      async function convertToInteractive(key) {\n",
              "        const element = document.querySelector('#df-c68fcaa9-abd8-4a65-b45d-2e045491a5d4');\n",
              "        const dataTable =\n",
              "          await google.colab.kernel.invokeFunction('convertToInteractive',\n",
              "                                                    [key], {});\n",
              "        if (!dataTable) return;\n",
              "\n",
              "        const docLinkHtml = 'Like what you see? Visit the ' +\n",
              "          '<a target=\"_blank\" href=https://colab.research.google.com/notebooks/data_table.ipynb>data table notebook</a>'\n",
              "          + ' to learn more about interactive tables.';\n",
              "        element.innerHTML = '';\n",
              "        dataTable['output_type'] = 'display_data';\n",
              "        await google.colab.output.renderOutput(dataTable, element);\n",
              "        const docLink = document.createElement('div');\n",
              "        docLink.innerHTML = docLinkHtml;\n",
              "        element.appendChild(docLink);\n",
              "      }\n",
              "    </script>\n",
              "  </div>\n",
              "\n",
              "\n",
              "<div id=\"df-ab285deb-54ee-4773-9d23-e2d53cd5371b\">\n",
              "  <button class=\"colab-df-quickchart\" onclick=\"quickchart('df-ab285deb-54ee-4773-9d23-e2d53cd5371b')\"\n",
              "            title=\"Suggest charts\"\n",
              "            style=\"display:none;\">\n",
              "\n",
              "<svg xmlns=\"http://www.w3.org/2000/svg\" height=\"24px\"viewBox=\"0 0 24 24\"\n",
              "     width=\"24px\">\n",
              "    <g>\n",
              "        <path d=\"M19 3H5c-1.1 0-2 .9-2 2v14c0 1.1.9 2 2 2h14c1.1 0 2-.9 2-2V5c0-1.1-.9-2-2-2zM9 17H7v-7h2v7zm4 0h-2V7h2v10zm4 0h-2v-4h2v4z\"/>\n",
              "    </g>\n",
              "</svg>\n",
              "  </button>\n",
              "\n",
              "<style>\n",
              "  .colab-df-quickchart {\n",
              "      --bg-color: #E8F0FE;\n",
              "      --fill-color: #1967D2;\n",
              "      --hover-bg-color: #E2EBFA;\n",
              "      --hover-fill-color: #174EA6;\n",
              "      --disabled-fill-color: #AAA;\n",
              "      --disabled-bg-color: #DDD;\n",
              "  }\n",
              "\n",
              "  [theme=dark] .colab-df-quickchart {\n",
              "      --bg-color: #3B4455;\n",
              "      --fill-color: #D2E3FC;\n",
              "      --hover-bg-color: #434B5C;\n",
              "      --hover-fill-color: #FFFFFF;\n",
              "      --disabled-bg-color: #3B4455;\n",
              "      --disabled-fill-color: #666;\n",
              "  }\n",
              "\n",
              "  .colab-df-quickchart {\n",
              "    background-color: var(--bg-color);\n",
              "    border: none;\n",
              "    border-radius: 50%;\n",
              "    cursor: pointer;\n",
              "    display: none;\n",
              "    fill: var(--fill-color);\n",
              "    height: 32px;\n",
              "    padding: 0;\n",
              "    width: 32px;\n",
              "  }\n",
              "\n",
              "  .colab-df-quickchart:hover {\n",
              "    background-color: var(--hover-bg-color);\n",
              "    box-shadow: 0 1px 2px rgba(60, 64, 67, 0.3), 0 1px 3px 1px rgba(60, 64, 67, 0.15);\n",
              "    fill: var(--button-hover-fill-color);\n",
              "  }\n",
              "\n",
              "  .colab-df-quickchart-complete:disabled,\n",
              "  .colab-df-quickchart-complete:disabled:hover {\n",
              "    background-color: var(--disabled-bg-color);\n",
              "    fill: var(--disabled-fill-color);\n",
              "    box-shadow: none;\n",
              "  }\n",
              "\n",
              "  .colab-df-spinner {\n",
              "    border: 2px solid var(--fill-color);\n",
              "    border-color: transparent;\n",
              "    border-bottom-color: var(--fill-color);\n",
              "    animation:\n",
              "      spin 1s steps(1) infinite;\n",
              "  }\n",
              "\n",
              "  @keyframes spin {\n",
              "    0% {\n",
              "      border-color: transparent;\n",
              "      border-bottom-color: var(--fill-color);\n",
              "      border-left-color: var(--fill-color);\n",
              "    }\n",
              "    20% {\n",
              "      border-color: transparent;\n",
              "      border-left-color: var(--fill-color);\n",
              "      border-top-color: var(--fill-color);\n",
              "    }\n",
              "    30% {\n",
              "      border-color: transparent;\n",
              "      border-left-color: var(--fill-color);\n",
              "      border-top-color: var(--fill-color);\n",
              "      border-right-color: var(--fill-color);\n",
              "    }\n",
              "    40% {\n",
              "      border-color: transparent;\n",
              "      border-right-color: var(--fill-color);\n",
              "      border-top-color: var(--fill-color);\n",
              "    }\n",
              "    60% {\n",
              "      border-color: transparent;\n",
              "      border-right-color: var(--fill-color);\n",
              "    }\n",
              "    80% {\n",
              "      border-color: transparent;\n",
              "      border-right-color: var(--fill-color);\n",
              "      border-bottom-color: var(--fill-color);\n",
              "    }\n",
              "    90% {\n",
              "      border-color: transparent;\n",
              "      border-bottom-color: var(--fill-color);\n",
              "    }\n",
              "  }\n",
              "</style>\n",
              "\n",
              "  <script>\n",
              "    async function quickchart(key) {\n",
              "      const quickchartButtonEl =\n",
              "        document.querySelector('#' + key + ' button');\n",
              "      quickchartButtonEl.disabled = true;  // To prevent multiple clicks.\n",
              "      quickchartButtonEl.classList.add('colab-df-spinner');\n",
              "      try {\n",
              "        const charts = await google.colab.kernel.invokeFunction(\n",
              "            'suggestCharts', [key], {});\n",
              "      } catch (error) {\n",
              "        console.error('Error during call to suggestCharts:', error);\n",
              "      }\n",
              "      quickchartButtonEl.classList.remove('colab-df-spinner');\n",
              "      quickchartButtonEl.classList.add('colab-df-quickchart-complete');\n",
              "    }\n",
              "    (() => {\n",
              "      let quickchartButtonEl =\n",
              "        document.querySelector('#df-ab285deb-54ee-4773-9d23-e2d53cd5371b button');\n",
              "      quickchartButtonEl.style.display =\n",
              "        google.colab.kernel.accessAllowed ? 'block' : 'none';\n",
              "    })();\n",
              "  </script>\n",
              "</div>\n",
              "\n",
              "    </div>\n",
              "  </div>\n"
            ],
            "application/vnd.google.colaboratory.intrinsic+json": {
              "type": "dataframe",
              "variable_name": "data",
              "summary": "{\n  \"name\": \"data\",\n  \"rows\": 31599,\n  \"fields\": [\n    {\n      \"column\": \"Id\",\n      \"properties\": {\n        \"dtype\": \"string\",\n        \"num_unique_values\": 31599,\n        \"samples\": [\n          \"0x276f\",\n          \"0x28c5\",\n          \"0x26f0\"\n        ],\n        \"semantic_type\": \"\",\n        \"description\": \"\"\n      }\n    },\n    {\n      \"column\": \"Property_Type\",\n      \"properties\": {\n        \"dtype\": \"category\",\n        \"num_unique_values\": 6,\n        \"samples\": [\n          \"Apartment\",\n          \"Bungalow\",\n          \"Container Home\"\n        ],\n        \"semantic_type\": \"\",\n        \"description\": \"\"\n      }\n    },\n    {\n      \"column\": \"Property_Area\",\n      \"properties\": {\n        \"dtype\": \"number\",\n        \"std\": 1950,\n        \"min\": 100,\n        \"max\": 28064,\n        \"num_unique_values\": 4181,\n        \"samples\": [\n          3843,\n          1303,\n          25166\n        ],\n        \"semantic_type\": \"\",\n        \"description\": \"\"\n      }\n    },\n    {\n      \"column\": \"Number_of_Windows\",\n      \"properties\": {\n        \"dtype\": \"number\",\n        \"std\": 2.6944846941294784,\n        \"min\": 0.0,\n        \"max\": 15.0,\n        \"num_unique_values\": 16,\n        \"samples\": [\n          2.0,\n          4.0,\n          1.0\n        ],\n        \"semantic_type\": \"\",\n        \"description\": \"\"\n      }\n    },\n    {\n      \"column\": \"Number_of_Doors\",\n      \"properties\": {\n        \"dtype\": \"number\",\n        \"std\": 1,\n        \"min\": 1,\n        \"max\": 6,\n        \"num_unique_values\": 6,\n        \"samples\": [\n          1,\n          2,\n          5\n        ],\n        \"semantic_type\": \"\",\n        \"description\": \"\"\n      }\n    },\n    {\n      \"column\": \"Furnishing\",\n      \"properties\": {\n        \"dtype\": \"category\",\n        \"num_unique_values\": 3,\n        \"samples\": [\n          \"Semi_Furnished\",\n          \"Unfurnished\",\n          \"Fully Furnished\"\n        ],\n        \"semantic_type\": \"\",\n        \"description\": \"\"\n      }\n    },\n    {\n      \"column\": \"Frequency_of_Powercuts\",\n      \"properties\": {\n        \"dtype\": \"number\",\n        \"std\": 0.7552085263556814,\n        \"min\": 0.0,\n        \"max\": 3.0,\n        \"num_unique_values\": 4,\n        \"samples\": [\n          1.0,\n          3.0,\n          0.0\n        ],\n        \"semantic_type\": \"\",\n        \"description\": \"\"\n      }\n    },\n    {\n      \"column\": \"Power_Backup\",\n      \"properties\": {\n        \"dtype\": \"category\",\n        \"num_unique_values\": 3,\n        \"samples\": [\n          \"No\",\n          \"Yes\",\n          \"NOT MENTIONED\"\n        ],\n        \"semantic_type\": \"\",\n        \"description\": \"\"\n      }\n    },\n    {\n      \"column\": \"Water_Supply\",\n      \"properties\": {\n        \"dtype\": \"category\",\n        \"num_unique_values\": 5,\n        \"samples\": [\n          \"Once in a day - Evening\",\n          \"Once in two days\",\n          \"All time\"\n        ],\n        \"semantic_type\": \"\",\n        \"description\": \"\"\n      }\n    },\n    {\n      \"column\": \"Traffic_Density_Score\",\n      \"properties\": {\n        \"dtype\": \"number\",\n        \"std\": 1.219394992429126,\n        \"min\": 0.0,\n        \"max\": 9.91,\n        \"num_unique_values\": 762,\n        \"samples\": [\n          6.58,\n          3.04,\n          6.02\n        ],\n        \"semantic_type\": \"\",\n        \"description\": \"\"\n      }\n    },\n    {\n      \"column\": \"Crime_Rate\",\n      \"properties\": {\n        \"dtype\": \"category\",\n        \"num_unique_values\": 4,\n        \"samples\": [\n          \"Well below average\",\n          \"Slightly above average\",\n          \"Slightly below average\"\n        ],\n        \"semantic_type\": \"\",\n        \"description\": \"\"\n      }\n    },\n    {\n      \"column\": \"Dust_and_Noise\",\n      \"properties\": {\n        \"dtype\": \"category\",\n        \"num_unique_values\": 3,\n        \"samples\": [\n          \"Medium\",\n          \"High\",\n          \"Low\"\n        ],\n        \"semantic_type\": \"\",\n        \"description\": \"\"\n      }\n    },\n    {\n      \"column\": \"Air_Quality_Index\",\n      \"properties\": {\n        \"dtype\": \"number\",\n        \"std\": 62.07178718830903,\n        \"min\": 0.0,\n        \"max\": 1044.0,\n        \"num_unique_values\": 443,\n        \"samples\": [\n          620.0,\n          188.0,\n          167.0\n        ],\n        \"semantic_type\": \"\",\n        \"description\": \"\"\n      }\n    },\n    {\n      \"column\": \"Neighborhood_Review\",\n      \"properties\": {\n        \"dtype\": \"number\",\n        \"std\": 0.7983004130485997,\n        \"min\": 0.24,\n        \"max\": 5.0,\n        \"num_unique_values\": 410,\n        \"samples\": [\n          2.77,\n          3.75,\n          3.32\n        ],\n        \"semantic_type\": \"\",\n        \"description\": \"\"\n      }\n    },\n    {\n      \"column\": \"Habitability_score\",\n      \"properties\": {\n        \"dtype\": \"number\",\n        \"std\": 14.146740399058766,\n        \"min\": 7.28,\n        \"max\": 100.0,\n        \"num_unique_values\": 5771,\n        \"samples\": [\n          80.05,\n          89.79,\n          90.04\n        ],\n        \"semantic_type\": \"\",\n        \"description\": \"\"\n      }\n    }\n  ]\n}"
            }
          },
          "metadata": {},
          "execution_count": 7
        }
      ]
    },
    {
      "cell_type": "markdown",
      "source": [
        "### Preprocessing"
      ],
      "metadata": {
        "id": "C7ERq3B73LT6"
      }
    },
    {
      "cell_type": "code",
      "execution_count": 14,
      "metadata": {
        "id": "1zpAwa091nzk"
      },
      "outputs": [],
      "source": [
        "from sklearn.preprocessing import LabelEncoder\n",
        "from sklearn.preprocessing import StandardScaler"
      ]
    },
    {
      "cell_type": "code",
      "execution_count": 10,
      "metadata": {
        "colab": {
          "base_uri": "https://localhost:8080/"
        },
        "id": "ZBrXZ40A1nzp",
        "outputId": "b46d8198-0be4-4ae6-dbdb-2c5cde282bb9"
      },
      "outputs": [
        {
          "output_type": "stream",
          "name": "stdout",
          "text": [
            "Columns with NaN values:\n",
            "Number_of_Windows         1333\n",
            "Furnishing                 828\n",
            "Frequency_of_Powercuts    1109\n",
            "Crime_Rate                 629\n",
            "Dust_and_Noise             999\n",
            "dtype: int64\n"
          ]
        }
      ],
      "source": [
        "# Check for NaN values in the entire dataset\n",
        "nan_values = data.isna().sum()\n",
        "# Print columns with NaN values and the corresponding count of NaN values\n",
        "print(\"Columns with NaN values:\")\n",
        "print(nan_values[nan_values > 0])"
      ]
    },
    {
      "cell_type": "code",
      "execution_count": 12,
      "metadata": {
        "id": "ql7yvBaL1nzq"
      },
      "outputs": [],
      "source": [
        "# Imputing missing values for Number_of_Windows and Frequency_of_Powercuts\n",
        "median_value = data['Number_of_Windows'].median()\n",
        "\n",
        "data['Number_of_Windows'].fillna(median_value, inplace=True)\n",
        "\n",
        "data['Frequency_of_Powercuts'].fillna(median_value, inplace=True)\n",
        "\n",
        "data = data.dropna() # Drop other rows with Nan values"
      ]
    },
    {
      "cell_type": "code",
      "execution_count": 13,
      "metadata": {
        "id": "yEpIUgYD1nzr"
      },
      "outputs": [],
      "source": [
        "# One-Hot Encoding with pandas.get_dummies\n",
        "categorical_cols = ['Property_Type', 'Furnishing', 'Power_Backup', 'Water_Supply', 'Dust_and_Noise','Crime_Rate' ]\n",
        "data = pd.get_dummies(data, columns=categorical_cols)\n",
        "data.drop(columns=['Id'], inplace=True)"
      ]
    },
    {
      "cell_type": "code",
      "source": [
        "X = data.drop(columns=\"Habitability_score\")\n",
        "y = data[\"Habitability_score\"]"
      ],
      "metadata": {
        "id": "rxRGtTM94NPv"
      },
      "execution_count": 16,
      "outputs": []
    },
    {
      "cell_type": "code",
      "source": [
        "# Scaling features\n",
        "scaler = StandardScaler()\n",
        "X_scaled = scaler.fit_transform(X)"
      ],
      "metadata": {
        "id": "3bLCXOde4Qgb"
      },
      "execution_count": 17,
      "outputs": []
    },
    {
      "cell_type": "markdown",
      "source": [
        "### Model Training"
      ],
      "metadata": {
        "id": "DUqzOXTF4Ym7"
      }
    },
    {
      "cell_type": "code",
      "execution_count": 21,
      "metadata": {
        "id": "rwAuntsv1nzs"
      },
      "outputs": [],
      "source": [
        "from sklearn.model_selection import KFold\n",
        "from sklearn.model_selection import cross_val_score,GridSearchCV\n",
        "from sklearn.svm import SVR\n",
        "import pickle"
      ]
    },
    {
      "cell_type": "code",
      "execution_count": 20,
      "metadata": {
        "id": "NLVyKCQe1nzt"
      },
      "outputs": [],
      "source": [
        "# Define the parameter grid for GridSearchCV\n",
        "param_grid = {\n",
        "    'kernel': ['linear', 'rbf', 'poly'],  # Different kernel types\n",
        "    'C': [0.1, 1, 10],  # Regularization parameter\n",
        "    'degree': [2, 3],  # Degree for polynomial kernel (if applicable)\n",
        "    'gamma': ['auto', 0.1, 1]  # Gamma for RBF kernel (if applicable)\n",
        "}"
      ]
    },
    {
      "cell_type": "code",
      "execution_count": 22,
      "metadata": {
        "id": "CfU-ZLIi1nzu"
      },
      "outputs": [],
      "source": [
        "svr = SVR()\n",
        "\n",
        "n_splits = 7\n",
        "kf = KFold(n_splits=n_splits, shuffle=True, random_state=42)\n",
        "grid_search = GridSearchCV(svr, param_grid, scoring='neg_mean_squared_error', cv=n_splits)"
      ]
    },
    {
      "cell_type": "code",
      "source": [
        "scores = []\n",
        "for train_index, test_index in kf.split(X):\n",
        "    X_train, X_test = X.iloc[train_index], X.iloc[test_index]\n",
        "    y_train, y_test = y.iloc[train_index], y.iloc[test_index]\n",
        "\n",
        "    # Fit scaler to the training features and transform both training and testing features\n",
        "    X_train_scaled = scaler.fit_transform(X_train)\n",
        "    X_test_scaled = scaler.transform(X_test)\n",
        "\n",
        "    # Fit SVR model to the scaled training data\n",
        "    svr.fit(X_train_scaled, y_train)\n",
        "\n",
        "    # Evaluate SVR model on the scaled testing data\n",
        "    score = svr.score(X_test_scaled, y_test)\n",
        "    scores.append(score)\n",
        "\n",
        "with open('ML_OLY_SVR_Model.pkl', 'wb') as f: # Save model\n",
        "    pickle.dump(svr, f)"
      ],
      "metadata": {
        "id": "4JBrr_-q5vNs"
      },
      "execution_count": 23,
      "outputs": []
    },
    {
      "cell_type": "code",
      "source": [
        "# Print the cross-validation scores\n",
        "print(\"Cross-validation scores:\", scores)\n",
        "\n",
        "# Print the mean and standard deviation of the cross-validation scores\n",
        "print(\"Mean cross-validation score:\", np.mean(scores))\n",
        "print(\"Standard deviation of cross-validation scores:\", np.std(scores))"
      ],
      "metadata": {
        "colab": {
          "base_uri": "https://localhost:8080/"
        },
        "id": "ivx860wj6AHM",
        "outputId": "921867de-8f4f-4225-e40b-fe1e06176efe"
      },
      "execution_count": 24,
      "outputs": [
        {
          "output_type": "stream",
          "name": "stdout",
          "text": [
            "Cross-validation scores: [0.7221331959651303, 0.7274151417731147, 0.7367891625780398, 0.7309521999212302, 0.7234905195036307, 0.717244013391214, 0.7147301242854679]\n",
            "Mean cross-validation score: 0.7246791939168326\n",
            "Standard deviation of cross-validation scores: 0.0071278959466900054\n"
          ]
        }
      ]
    }
  ],
  "metadata": {
    "kernelspec": {
      "display_name": "Python 3",
      "language": "python",
      "name": "python3"
    },
    "language_info": {
      "codemirror_mode": {
        "name": "ipython",
        "version": 3
      },
      "file_extension": ".py",
      "mimetype": "text/x-python",
      "name": "python",
      "nbconvert_exporter": "python",
      "pygments_lexer": "ipython3",
      "version": "3.11.4"
    },
    "colab": {
      "provenance": [],
      "include_colab_link": true
    }
  },
  "nbformat": 4,
  "nbformat_minor": 0
}